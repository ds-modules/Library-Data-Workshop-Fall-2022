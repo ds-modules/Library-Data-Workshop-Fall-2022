{
 "cells": [
  {
   "cell_type": "markdown",
   "id": "da63a41c",
   "metadata": {},
   "source": [
    "# Introducción a Python"
   ]
  },
  {
   "cell_type": "markdown",
   "id": "8c4e8de7",
   "metadata": {},
   "source": [
    "# ¿Qué es Python?"
   ]
  },
  {
   "cell_type": "markdown",
   "id": "a211701c",
   "metadata": {},
   "source": [
    "Python es un lenguaje de programación de propósito general muy poderoso y flexible, a la vez que sencillo y fácil de aprender."
   ]
  },
  {
   "cell_type": "markdown",
   "id": "e5fcceb9",
   "metadata": {},
   "source": [
    "# Fundamentos de Python"
   ]
  },
  {
   "cell_type": "markdown",
   "id": "d6d85119",
   "metadata": {},
   "source": [
    "Cálculos simples y evaluación de expresiones"
   ]
  },
  {
   "cell_type": "code",
   "execution_count": 10,
   "id": "562fa908",
   "metadata": {},
   "outputs": [
    {
     "data": {
      "text/plain": [
       "-1"
      ]
     },
     "execution_count": 10,
     "metadata": {},
     "output_type": "execute_result"
    }
   ],
   "source": [
    "5 - 6"
   ]
  },
  {
   "cell_type": "code",
   "execution_count": 11,
   "id": "05df0e7b",
   "metadata": {},
   "outputs": [
    {
     "data": {
      "text/plain": [
       "-3.3999999999999995"
      ]
     },
     "execution_count": 11,
     "metadata": {},
     "output_type": "execute_result"
    }
   ],
   "source": [
    "4.5 - 5.6 - 2.3"
   ]
  },
  {
   "cell_type": "code",
   "execution_count": 12,
   "id": "4c4afca0",
   "metadata": {},
   "outputs": [
    {
     "data": {
      "text/plain": [
       "253"
      ]
     },
     "execution_count": 12,
     "metadata": {},
     "output_type": "execute_result"
    }
   ],
   "source": [
    "3 ** 5 + (4 + 6)"
   ]
  },
  {
   "cell_type": "markdown",
   "id": "1e4822ba",
   "metadata": {},
   "source": [
    "# Almacenamiento de valores en variables"
   ]
  },
  {
   "cell_type": "code",
   "execution_count": 9,
   "id": "513bd093",
   "metadata": {},
   "outputs": [],
   "source": [
    "nombre = \"Diego Sotomayor\"\n",
    "numero = 12\n",
    "solo_nombre, numero = \"Mauricio\", 24"
   ]
  },
  {
   "cell_type": "markdown",
   "id": "5890b68a",
   "metadata": {},
   "source": [
    "# Tipos de variables integradas:"
   ]
  },
  {
   "cell_type": "markdown",
   "id": "87ac8958",
   "metadata": {},
   "source": [
    "    Tipo Text: str"
   ]
  },
  {
   "cell_type": "code",
   "execution_count": 15,
   "id": "dad83873",
   "metadata": {},
   "outputs": [
    {
     "data": {
      "text/plain": [
       "'2022'"
      ]
     },
     "execution_count": 15,
     "metadata": {},
     "output_type": "execute_result"
    }
   ],
   "source": [
    "str(2022)"
   ]
  },
  {
   "cell_type": "markdown",
   "id": "58e8c3be",
   "metadata": {},
   "source": [
    "    Tipo Numeric: int, float, complex"
   ]
  },
  {
   "cell_type": "code",
   "execution_count": 17,
   "id": "efd447eb",
   "metadata": {},
   "outputs": [
    {
     "data": {
      "text/plain": [
       "21"
      ]
     },
     "execution_count": 17,
     "metadata": {},
     "output_type": "execute_result"
    }
   ],
   "source": [
    "int(21.1)"
   ]
  },
  {
   "cell_type": "code",
   "execution_count": 18,
   "id": "ea5169e8",
   "metadata": {},
   "outputs": [
    {
     "data": {
      "text/plain": [
       "32.0"
      ]
     },
     "execution_count": 18,
     "metadata": {},
     "output_type": "execute_result"
    }
   ],
   "source": [
    "float(32)"
   ]
  },
  {
   "cell_type": "markdown",
   "id": "0f81ae48",
   "metadata": {},
   "source": [
    "    Tipo Boolean: bool"
   ]
  },
  {
   "cell_type": "code",
   "execution_count": 17,
   "id": "bc4cb32c",
   "metadata": {},
   "outputs": [
    {
     "data": {
      "text/plain": [
       "False"
      ]
     },
     "execution_count": 17,
     "metadata": {},
     "output_type": "execute_result"
    }
   ],
   "source": [
    "bool(None)"
   ]
  },
  {
   "cell_type": "code",
   "execution_count": 18,
   "id": "c6981c77",
   "metadata": {},
   "outputs": [
    {
     "data": {
      "text/plain": [
       "True"
      ]
     },
     "execution_count": 18,
     "metadata": {},
     "output_type": "execute_result"
    }
   ],
   "source": [
    "bool(25)"
   ]
  },
  {
   "cell_type": "code",
   "execution_count": 19,
   "id": "5e4f0634",
   "metadata": {},
   "outputs": [
    {
     "data": {
      "text/plain": [
       "False"
      ]
     },
     "execution_count": 19,
     "metadata": {},
     "output_type": "execute_result"
    }
   ],
   "source": [
    "bool(\"\")"
   ]
  },
  {
   "cell_type": "code",
   "execution_count": 20,
   "id": "7ba5e68a",
   "metadata": {},
   "outputs": [
    {
     "data": {
      "text/plain": [
       "True"
      ]
     },
     "execution_count": 20,
     "metadata": {},
     "output_type": "execute_result"
    }
   ],
   "source": [
    "bool(\"abc\")"
   ]
  },
  {
   "cell_type": "markdown",
   "id": "599e9514",
   "metadata": {},
   "source": [
    "    Tipo Sequence: list, tuple, range"
   ]
  },
  {
   "cell_type": "code",
   "execution_count": null,
   "id": "8e8e55d5",
   "metadata": {},
   "outputs": [],
   "source": []
  },
  {
   "cell_type": "markdown",
   "id": "f63aff6f",
   "metadata": {},
   "source": [
    "    Tipo Mapping: dict"
   ]
  },
  {
   "cell_type": "code",
   "execution_count": null,
   "id": "a89ad542",
   "metadata": {},
   "outputs": [],
   "source": [
    "dictionario = {diego: 24\n",
    "              alex: 32\n",
    "              scarlet: 27}"
   ]
  },
  {
   "cell_type": "markdown",
   "id": "bf29ddd6",
   "metadata": {},
   "source": [
    "    Tipo Set: set, frozenset"
   ]
  },
  {
   "cell_type": "markdown",
   "id": "fef34fdc",
   "metadata": {},
   "source": [
    "    Tipo Binary: bytes, bytearray, memoryview"
   ]
  },
  {
   "cell_type": "markdown",
   "id": "aef30310",
   "metadata": {},
   "source": [
    "# Repetir Acciones con \"Loops\""
   ]
  },
  {
   "cell_type": "markdown",
   "id": "95518b45",
   "metadata": {},
   "source": [
    "# While Loop "
   ]
  },
  {
   "cell_type": "markdown",
   "id": "4e628ad2",
   "metadata": {},
   "source": [
    "En Python tiene una palabra reservada llamada 'while' que nos permite ejecutar ciclos, o bien secuencias periódicas permitiendonos ejecutar nuestro código múltiples veces.\n",
    "Este loop nos permite realizar múltiples iteraciones basándonos en el resultado de una expresión lógica que puede tener como resultado un valor 'True' o 'False'."
   ]
  },
  {
   "cell_type": "code",
   "execution_count": 6,
   "id": "22200911",
   "metadata": {},
   "outputs": [
    {
     "name": "stdout",
     "output_type": "stream",
     "text": [
      "0\n",
      "1\n",
      "2\n",
      "3\n",
      "4\n"
     ]
    }
   ],
   "source": [
    "i = 0\n",
    "\n",
    "while i < 5:\n",
    "    print(i)\n",
    "    i += 1"
   ]
  },
  {
   "cell_type": "code",
   "execution_count": 10,
   "id": "e83e733e",
   "metadata": {},
   "outputs": [
    {
     "name": "stdout",
     "output_type": "stream",
     "text": [
      "i is less than 2\n",
      "i is less than 2\n",
      "The condition is False.\n"
     ]
    }
   ],
   "source": [
    "i = 0\n",
    "while(i < 2):\n",
    "    print(\"i is less than 2\")\n",
    "    i += 1\n",
    "else:\n",
    "    print(\"The condition is False.\") "
   ]
  },
  {
   "cell_type": "markdown",
   "id": "b481eff7",
   "metadata": {},
   "source": [
    "# For Loop"
   ]
  },
  {
   "cell_type": "markdown",
   "id": "94fa6ab9",
   "metadata": {},
   "source": [
    "La keyword 'for' en Python difiere un poco de lo que uno puede estar acostumbrado en lenguajes como C o Pascal. En lugar de siempre iterar sobre una progresión aritmética de números (como en Pascal) o darle al usuario la posibilidad de definir tanto el paso de la iteración como la condición de fin (como en C), la sentencia for de Python itera sobre los ítems de cualquier secuencia (una lista o una cadenas de caracteres), en el orden que aparecen en la secuencia."
   ]
  },
  {
   "cell_type": "code",
   "execution_count": 5,
   "id": "014db47d",
   "metadata": {},
   "outputs": [
    {
     "name": "stdout",
     "output_type": "stream",
     "text": [
      "Anna\n",
      "Sofia\n",
      "Jackie\n"
     ]
    }
   ],
   "source": [
    "nombres = [\"Anna\", \"Sofia\", \"Jackie\"]\n",
    "\n",
    "for nombre in nombres:\n",
    "    print(nombre)"
   ]
  },
  {
   "cell_type": "code",
   "execution_count": 12,
   "id": "cf401ec8",
   "metadata": {},
   "outputs": [
    {
     "name": "stdout",
     "output_type": "stream",
     "text": [
      "Jack esta en la 1. posicion\n",
      "Ann esta en la 2. posicion\n",
      "Sofie esta en la 3. posicion\n"
     ]
    }
   ],
   "source": [
    "nombres = [\"Jack\", \"Ann\", \"Sofie\"]\n",
    "largo = len(nombres)\n",
    "for i in range(0, largo):\n",
    "    nombre = nombres[i]\n",
    "    print(\"{} esta en la {}. posicion\".format(nombre, i + 1))"
   ]
  },
  {
   "cell_type": "markdown",
   "id": "fc772f22",
   "metadata": {},
   "source": [
    "# Tomar decisiones con condicionales"
   ]
  },
  {
   "cell_type": "markdown",
   "id": "94aa57c2",
   "metadata": {},
   "source": [
    "La keyword condicional 'if' se usa para tomar decisiones, este evaluá básicamente una operación lógica, es decir una expresión que entrega como resultado 'True' o 'False', y ejecuta la pieza de código siguiente siempre y cuando el resultado sea verdadero (True)."
   ]
  },
  {
   "cell_type": "markdown",
   "id": "c0036c9c",
   "metadata": {},
   "source": []
  },
  {
   "cell_type": "markdown",
   "id": "c02d5023",
   "metadata": {},
   "source": [
    "Keyword 'if':"
   ]
  },
  {
   "cell_type": "markdown",
   "id": "85997bff",
   "metadata": {},
   "source": [
    "La keyword if EXPRESION, significa, Si se cumple la expresión condicional se ejecuta el bloque de sentencias seguidas."
   ]
  },
  {
   "cell_type": "code",
   "execution_count": 13,
   "id": "1f7786dc",
   "metadata": {},
   "outputs": [
    {
     "name": "stdout",
     "output_type": "stream",
     "text": [
      "El valor del numero es 10\n"
     ]
    }
   ],
   "source": [
    "number = 10\n",
    "if number <= 10:\n",
    "    print(\"El valor del numero es\", number)"
   ]
  },
  {
   "cell_type": "raw",
   "id": "0932b2d9",
   "metadata": {},
   "source": [
    "Keyword 'elif':"
   ]
  },
  {
   "cell_type": "markdown",
   "id": "8c5e34c7",
   "metadata": {},
   "source": [
    "La sentencia elif EXPRESION, significa, De lo contrario Si se cumple la expresión condicional se ejecuta el bloque de sentencias seguidas."
   ]
  },
  {
   "cell_type": "code",
   "execution_count": 14,
   "id": "52d675c6",
   "metadata": {},
   "outputs": [
    {
     "name": "stdout",
     "output_type": "stream",
     "text": [
      "x is greater than y\n"
     ]
    }
   ],
   "source": [
    "x = 25\n",
    "y = 20\n",
    "z = 5\n",
    "\n",
    "if y > x:\n",
    "  print(\"y is greater than x\")\n",
    "elif x > y:\n",
    "  print(\"x is greater than y\")"
   ]
  },
  {
   "cell_type": "markdown",
   "id": "a7ed8a98",
   "metadata": {},
   "source": [
    "Keyword 'else':"
   ]
  },
  {
   "cell_type": "markdown",
   "id": "9868d414",
   "metadata": {},
   "source": [
    "La sentencia else, significa, De lo contrario se cumple sin evaluar ninguna expresión condicional y ejecuta el bloque de sentencias seguidas."
   ]
  },
  {
   "cell_type": "code",
   "execution_count": null,
   "id": "fbbbdd39",
   "metadata": {},
   "outputs": [],
   "source": []
  },
  {
   "cell_type": "markdown",
   "id": "4e6a7474",
   "metadata": {},
   "source": [
    "Operadores ( ==, is, in):"
   ]
  },
  {
   "cell_type": "markdown",
   "id": "23eb05d0",
   "metadata": {},
   "source": [
    "    '==' <- Esta expresión usa el operador == para validar la misma."
   ]
  },
  {
   "cell_type": "code",
   "execution_count": 5,
   "id": "6cd0e7fa",
   "metadata": {},
   "outputs": [
    {
     "data": {
      "text/plain": [
       "False"
      ]
     },
     "execution_count": 5,
     "metadata": {},
     "output_type": "execute_result"
    }
   ],
   "source": [
    "a = 12\n",
    "b = 13\n",
    "a == b"
   ]
  },
  {
   "cell_type": "code",
   "execution_count": 6,
   "id": "9a1a765f",
   "metadata": {},
   "outputs": [
    {
     "data": {
      "text/plain": [
       "True"
      ]
     },
     "execution_count": 6,
     "metadata": {},
     "output_type": "execute_result"
    }
   ],
   "source": [
    "a = 12\n",
    "b = 13\n",
    "a != b"
   ]
  },
  {
   "cell_type": "markdown",
   "id": "f2d3a9f4",
   "metadata": {},
   "source": [
    "    'is' <- Esta expresión usa el operador is para validar la misma."
   ]
  },
  {
   "cell_type": "code",
   "execution_count": null,
   "id": "7ea2309f",
   "metadata": {},
   "outputs": [],
   "source": [
    "x = 10\n",
    "y = 10\n",
    "x is y"
   ]
  },
  {
   "cell_type": "code",
   "execution_count": null,
   "id": "40af4472",
   "metadata": {},
   "outputs": [],
   "source": [
    "x = 10\n",
    "y = 20\n",
    "x is y "
   ]
  },
  {
   "cell_type": "markdown",
   "id": "a182d316",
   "metadata": {},
   "source": [
    "    'in' <- Esta expresión usa el operador in para validar la misma."
   ]
  },
  {
   "cell_type": "code",
   "execution_count": 3,
   "id": "f3ae00cf",
   "metadata": {},
   "outputs": [
    {
     "data": {
      "text/plain": [
       "True"
      ]
     },
     "execution_count": 3,
     "metadata": {},
     "output_type": "execute_result"
    }
   ],
   "source": [
    "lista = [1, 2, 3, 4, 5]\n",
    "2 in lista"
   ]
  },
  {
   "cell_type": "code",
   "execution_count": 7,
   "id": "16f70a2d",
   "metadata": {},
   "outputs": [
    {
     "data": {
      "text/plain": [
       "False"
      ]
     },
     "execution_count": 7,
     "metadata": {},
     "output_type": "execute_result"
    }
   ],
   "source": [
    "lista = [1, 2, 3, 4, 5]\n",
    "7 in lista"
   ]
  },
  {
   "cell_type": "markdown",
   "id": "5f8825e2",
   "metadata": {},
   "source": [
    "Operadores lógicos (and, or , not):"
   ]
  },
  {
   "cell_type": "markdown",
   "id": "046ad863",
   "metadata": {},
   "source": [
    "    'and' <- El operador and evalúa si el valor del lado izquierdo y el lado derecho se cumple."
   ]
  },
  {
   "cell_type": "code",
   "execution_count": null,
   "id": "eb5ada05",
   "metadata": {},
   "outputs": [],
   "source": []
  },
  {
   "cell_type": "markdown",
   "id": "cc38b24e",
   "metadata": {},
   "source": [
    "    'or'  <- El operador or evalúa si el valor del lado izquierdo o el lado derecho se cumple."
   ]
  },
  {
   "cell_type": "code",
   "execution_count": null,
   "id": "617d35c8",
   "metadata": {},
   "outputs": [],
   "source": []
  },
  {
   "cell_type": "markdown",
   "id": "423c82bf",
   "metadata": {},
   "source": [
    "    'not' <- El operador not devuelve el valor opuesto la valor booleano."
   ]
  },
  {
   "cell_type": "code",
   "execution_count": null,
   "id": "3acf8f11",
   "metadata": {},
   "outputs": [],
   "source": []
  },
  {
   "cell_type": "markdown",
   "id": "e8d6906d",
   "metadata": {},
   "source": [
    "# Creando Funciones "
   ]
  },
  {
   "cell_type": "markdown",
   "id": "3dd9e4a4",
   "metadata": {},
   "source": [
    "Una función es un bloque de código con un nombre asociado, que recibe cero o más argumentos como entrada, sigue una secuencia de sentencias, la cuales ejecuta una operación deseada y devuelve un valor y/o realiza una tarea, este bloque puede ser llamados cuando se necesite."
   ]
  },
  {
   "cell_type": "code",
   "execution_count": null,
   "id": "468888c8",
   "metadata": {},
   "outputs": [],
   "source": []
  },
  {
   "cell_type": "code",
   "execution_count": 2,
   "id": "cbea56bb",
   "metadata": {},
   "outputs": [
    {
     "name": "stdout",
     "output_type": "stream",
     "text": [
      "Hola Diego !\n"
     ]
    }
   ],
   "source": [
    "def hola(arg):\n",
    "    print(\"Hola\", arg, \"!\")\n",
    "    \n",
    "hola(\"Diego\")"
   ]
  },
  {
   "cell_type": "code",
   "execution_count": 13,
   "id": "e7533c84",
   "metadata": {},
   "outputs": [
    {
     "name": "stdout",
     "output_type": "stream",
     "text": [
      "El clima esta frio: 0 C\n",
      "El clima es caluroso: 100 C\n"
     ]
    }
   ],
   "source": [
    "def f_a_c(temp):\n",
    "    return int((temp - 32) * (5/9))\n",
    "frio = f_a_c(32)\n",
    "calor = f_a_c(212)\n",
    "print(\"El clima esta frio:\", frio, \"C\")\n",
    "print(\"El clima es caluroso:\", calor, \"C\")"
   ]
  },
  {
   "cell_type": "code",
   "execution_count": null,
   "id": "79b543d3",
   "metadata": {},
   "outputs": [],
   "source": []
  }
 ],
 "metadata": {
  "kernelspec": {
   "display_name": "Python 3 (ipykernel)",
   "language": "python",
   "name": "python3"
  },
  "language_info": {
   "codemirror_mode": {
    "name": "ipython",
    "version": 3
   },
   "file_extension": ".py",
   "mimetype": "text/x-python",
   "name": "python",
   "nbconvert_exporter": "python",
   "pygments_lexer": "ipython3",
   "version": "3.9.13"
  }
 },
 "nbformat": 4,
 "nbformat_minor": 5
}
